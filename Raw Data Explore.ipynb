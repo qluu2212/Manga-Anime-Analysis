{
 "cells": [
  {
   "cell_type": "code",
   "execution_count": 1,
   "id": "e3270f13-febf-4641-a2f7-657ec8701059",
   "metadata": {},
   "outputs": [],
   "source": [
    "import pandas as pd"
   ]
  },
  {
   "cell_type": "code",
   "execution_count": 2,
   "id": "401e8552-4101-4144-b219-59eeea254fe9",
   "metadata": {},
   "outputs": [],
   "source": [
    "raw_anime = pd.read_csv(\"MAL-anime.csv\")\n",
    "raw_manga = pd.read_csv(\"MAL-manga.csv\")"
   ]
  },
  {
   "cell_type": "code",
   "execution_count": 3,
   "id": "1156f043-e2e3-4acf-91c6-4994c26e1c61",
   "metadata": {},
   "outputs": [
    {
     "name": "stdout",
     "output_type": "stream",
     "text": [
      "Index(['Unnamed: 0', 'Title', 'Rank', 'Type', 'Episodes', 'Aired', 'Members',\n",
      "       'page_url', 'image_url', 'Score'],\n",
      "      dtype='object')\n"
     ]
    }
   ],
   "source": [
    "print(raw_anime.columns)"
   ]
  },
  {
   "cell_type": "code",
   "execution_count": 4,
   "id": "a8f69a93-54e9-4238-a3af-615e26008d41",
   "metadata": {},
   "outputs": [
    {
     "name": "stdout",
     "output_type": "stream",
     "text": [
      "12774\n"
     ]
    }
   ],
   "source": [
    "print(len(raw_anime))"
   ]
  },
  {
   "cell_type": "code",
   "execution_count": 5,
   "id": "562523fb-d5cb-43d2-8913-9378fdd633ed",
   "metadata": {},
   "outputs": [
    {
     "name": "stdout",
     "output_type": "stream",
     "text": [
      "17811\n"
     ]
    }
   ],
   "source": [
    "print(len(raw_manga))"
   ]
  },
  {
   "cell_type": "code",
   "execution_count": 6,
   "id": "d7ffa4ec-7a39-4e0a-bfd5-a9ff181b63db",
   "metadata": {},
   "outputs": [
    {
     "name": "stdout",
     "output_type": "stream",
     "text": [
      "0\n"
     ]
    }
   ],
   "source": [
    "print(raw_anime['Unnamed: 0'].duplicated().sum())"
   ]
  },
  {
   "cell_type": "code",
   "execution_count": 7,
   "id": "4d2416f8-e2ad-4440-abe8-f4ca65900730",
   "metadata": {},
   "outputs": [
    {
     "name": "stdout",
     "output_type": "stream",
     "text": [
      "0\n"
     ]
    }
   ],
   "source": [
    "print(raw_anime['Unnamed: 0'].isnull().sum())"
   ]
  },
  {
   "cell_type": "code",
   "execution_count": 8,
   "id": "8d2daa69-01d2-4eb4-89cf-da734a8c1222",
   "metadata": {},
   "outputs": [
    {
     "name": "stdout",
     "output_type": "stream",
     "text": [
      "   Unnamed: 0                                           Title   Rank     Type  \\\n",
      "0           0                               Net-juu no Susume   1568       TV   \n",
      "1           1  Neon Genesis Evangelion: The End of Evangelion     99    Movie   \n",
      "2           2                                         Templex  11445    Movie   \n",
      "3           3                                        s.CRY.ed   2248       TV   \n",
      "4           4                  Toaru Majutsu no Index-tan III   6679  Special   \n",
      "\n",
      "  Episodes                Aired  Members  \\\n",
      "0       10  Oct 2017 - Dec 2017   450968   \n",
      "1        1  Jul 1997 - Jul 1997   883576   \n",
      "2        1          2015 - 2015      538   \n",
      "3       26  Jul 2001 - Dec 2001    81283   \n",
      "4        2  Dec 2018 - Apr 2019    11370   \n",
      "\n",
      "                                            page_url  \\\n",
      "0  https://myanimelist.net/anime/36038/Net-juu_no...   \n",
      "1  https://myanimelist.net/anime/32/Neon_Genesis_...   \n",
      "2        https://myanimelist.net/anime/40721/Templex   \n",
      "3           https://myanimelist.net/anime/168/sCRYed   \n",
      "4  https://myanimelist.net/anime/39094/Toaru_Maju...   \n",
      "\n",
      "                                           image_url  Score  \n",
      "0  https://cdn.myanimelist.net/r/100x140/images/a...   7.55  \n",
      "1  https://cdn.myanimelist.net/r/100x140/images/a...   8.55  \n",
      "2  https://cdn.myanimelist.net/r/100x140/images/a...   5.29  \n",
      "3  https://cdn.myanimelist.net/r/100x140/images/a...   7.36  \n",
      "4  https://cdn.myanimelist.net/r/100x140/images/a...   6.44  \n"
     ]
    }
   ],
   "source": [
    "print(raw_anime.head())"
   ]
  },
  {
   "cell_type": "code",
   "execution_count": 9,
   "id": "d8f88069-4613-4603-9b88-6caf0ca2ef1e",
   "metadata": {},
   "outputs": [],
   "source": [
    "cleaned_anime=raw_anime.drop(['Unnamed: 0', 'page_url', 'image_url'], axis = 1)"
   ]
  },
  {
   "cell_type": "code",
   "execution_count": 10,
   "id": "6c9d6808-bb2e-4eec-87b2-91e054f2b6e6",
   "metadata": {},
   "outputs": [
    {
     "name": "stdout",
     "output_type": "stream",
     "text": [
      "                                                   Title   Rank     Type  \\\n",
      "0                                      Net-juu no Susume   1568       TV   \n",
      "1         Neon Genesis Evangelion: The End of Evangelion     99    Movie   \n",
      "2                                                Templex  11445    Movie   \n",
      "3                                               s.CRY.ed   2248       TV   \n",
      "4                         Toaru Majutsu no Index-tan III   6679  Special   \n",
      "...                                                  ...    ...      ...   \n",
      "12769                                   Neko no Ongaeshi   1090    Movie   \n",
      "12770                                      Kowasugimasu.  12283      ONA   \n",
      "12771                                        Bloody Date  12661      ONA   \n",
      "12772  Deliver Police: Nishitokyo-shi Deliver Keisats...  11318      ONA   \n",
      "12773                 City Hunter: Goodbye My Sweetheart   1750  Special   \n",
      "\n",
      "      Episodes                Aired  Members  Score  \n",
      "0           10  Oct 2017 - Dec 2017   450968   7.55  \n",
      "1            1  Jul 1997 - Jul 1997   883576   8.55  \n",
      "2            1          2015 - 2015      538   5.29  \n",
      "3           26  Jul 2001 - Dec 2001    81283   7.36  \n",
      "4            2  Dec 2018 - Apr 2019    11370   6.44  \n",
      "...        ...                  ...      ...    ...  \n",
      "12769        1  Jul 2002 - Jul 2002   259386   7.72  \n",
      "12770        1  Mar 2018 - Mar 2018      352   4.80  \n",
      "12771        1  Nov 2006 - Nov 2006     4112   4.21  \n",
      "12772        1  Mar 2021 - Mar 2021      485   5.34  \n",
      "12773        1  Apr 1997 - Apr 1997     7274   7.49  \n",
      "\n",
      "[12774 rows x 7 columns]\n"
     ]
    }
   ],
   "source": [
    "print(cleaned_anime)"
   ]
  },
  {
   "cell_type": "code",
   "execution_count": 11,
   "id": "fbedb314-4e4d-48ed-a353-d734d17a6254",
   "metadata": {},
   "outputs": [
    {
     "data": {
      "text/plain": [
       "0"
      ]
     },
     "execution_count": 11,
     "metadata": {},
     "output_type": "execute_result"
    }
   ],
   "source": [
    "cleaned_anime['Score'].isnull().sum()"
   ]
  },
  {
   "cell_type": "code",
   "execution_count": 12,
   "id": "69dc5570-9d76-4c69-bd1c-d6efb7612d22",
   "metadata": {},
   "outputs": [
    {
     "data": {
      "text/plain": [
       "12774"
      ]
     },
     "execution_count": 12,
     "metadata": {},
     "output_type": "execute_result"
    }
   ],
   "source": [
    "cleaned_anime['Title'].nunique()"
   ]
  },
  {
   "cell_type": "code",
   "execution_count": 13,
   "id": "3ce68930-aef2-4639-afac-442b12167d85",
   "metadata": {},
   "outputs": [
    {
     "name": "stdout",
     "output_type": "stream",
     "text": [
      "Index(['Unnamed: 0', 'Title', 'Rank', 'Type', 'Volumes', 'Published',\n",
      "       'Members', 'page_url', 'image_url', 'Score'],\n",
      "      dtype='object')\n"
     ]
    }
   ],
   "source": [
    "print(raw_manga.columns)"
   ]
  },
  {
   "cell_type": "code",
   "execution_count": 14,
   "id": "b7e48f68-f055-49c0-9af9-9547d1c06bc7",
   "metadata": {},
   "outputs": [
    {
     "name": "stdout",
     "output_type": "stream",
     "text": [
      "0\n",
      "0\n"
     ]
    }
   ],
   "source": [
    "print(raw_manga['Unnamed: 0'].duplicated().sum())\n",
    "print(raw_manga['Unnamed: 0'].isnull().sum())"
   ]
  },
  {
   "cell_type": "code",
   "execution_count": 15,
   "id": "12c97cf3-0465-44cb-b1ab-fb6c8ec24344",
   "metadata": {},
   "outputs": [
    {
     "name": "stdout",
     "output_type": "stream",
     "text": [
      "<class 'pandas.core.frame.DataFrame'>\n",
      "RangeIndex: 17811 entries, 0 to 17810\n",
      "Data columns (total 10 columns):\n",
      " #   Column      Non-Null Count  Dtype  \n",
      "---  ------      --------------  -----  \n",
      " 0   Unnamed: 0  17811 non-null  int64  \n",
      " 1   Title       17811 non-null  object \n",
      " 2   Rank        17811 non-null  int64  \n",
      " 3   Type        17811 non-null  object \n",
      " 4   Volumes     17811 non-null  object \n",
      " 5   Published   17811 non-null  object \n",
      " 6   Members     17811 non-null  int64  \n",
      " 7   page_url    17811 non-null  object \n",
      " 8   image_url   17811 non-null  object \n",
      " 9   Score       17811 non-null  float64\n",
      "dtypes: float64(1), int64(3), object(6)\n",
      "memory usage: 1.4+ MB\n",
      "None\n"
     ]
    }
   ],
   "source": [
    "print(raw_manga.info())"
   ]
  },
  {
   "cell_type": "code",
   "execution_count": 16,
   "id": "a619c88a-5d18-4792-a743-e327f9e0f610",
   "metadata": {},
   "outputs": [],
   "source": [
    "cleaned_manga=raw_manga.drop(['Unnamed: 0', 'page_url', 'image_url'], axis = 1)"
   ]
  },
  {
   "cell_type": "code",
   "execution_count": 17,
   "id": "7f548479-8850-4045-8328-0f371673bdcd",
   "metadata": {},
   "outputs": [
    {
     "name": "stdout",
     "output_type": "stream",
     "text": [
      "                                                   Title   Rank      Type  \\\n",
      "0                                            City Hunter    460     Manga   \n",
      "1                                          Keijo!!!!!!!!   4532     Manga   \n",
      "2                                                   Rain   1808     Manga   \n",
      "3                                       Hidari no Futari  17377  One-shot   \n",
      "4                                           Odd Girl Out    953    Manhwa   \n",
      "...                                                  ...    ...       ...   \n",
      "17806  Akuyaku Reijou desu ga Kouryaku Taishou no You...  10635     Manga   \n",
      "17807                                             Hakuji   5720     Manga   \n",
      "17808                Maouritsu Chuu-Boss Yousei Academia  15889     Manga   \n",
      "17809                Arakure Ojousama wa Monmon Shiteiru   7569     Manga   \n",
      "17810                           Tensei Ouji wa Daraketai  12899     Manga   \n",
      "\n",
      "      Volumes            Published  Members  Score  \n",
      "0          35  Feb 1985 - Nov 1991    14690   8.16  \n",
      "1          18  Jul 2013 - Apr 2017    12689   7.31  \n",
      "2           ?           Nov 2008 -    12021   7.67  \n",
      "3           ?          2011 - 2011     1010   5.95  \n",
      "4           ?           May 2015 -     4968   7.90  \n",
      "...       ...                  ...      ...    ...  \n",
      "17806       ?           Dec 2020 -     1142   6.85  \n",
      "17807       2  May 2008 - Apr 2010     6103   7.21  \n",
      "17808       3  Sep 2017 - Mar 2019      696   6.38  \n",
      "17809       ?           Nov 2018 -    11257   7.07  \n",
      "17810       3  Jan 2018 - Mar 2020     6203   6.68  \n",
      "\n",
      "[17811 rows x 7 columns]\n"
     ]
    }
   ],
   "source": [
    "print(cleaned_manga)"
   ]
  },
  {
   "cell_type": "code",
   "execution_count": 18,
   "id": "f80ded6f-3dca-4196-8d70-afa8a3459dbd",
   "metadata": {},
   "outputs": [
    {
     "data": {
      "text/plain": [
       "0"
      ]
     },
     "execution_count": 18,
     "metadata": {},
     "output_type": "execute_result"
    }
   ],
   "source": [
    "cleaned_manga['Score'].isnull().sum()"
   ]
  },
  {
   "cell_type": "code",
   "execution_count": 19,
   "id": "93015a22-c727-41ff-9f3d-5034e3bbf53f",
   "metadata": {},
   "outputs": [
    {
     "data": {
      "text/plain": [
       "17099"
      ]
     },
     "execution_count": 19,
     "metadata": {},
     "output_type": "execute_result"
    }
   ],
   "source": [
    "cleaned_manga['Title'].nunique()"
   ]
  },
  {
   "cell_type": "code",
   "execution_count": 20,
   "id": "3e90d5af-e8ca-437c-846b-f2ecc570ab4b",
   "metadata": {},
   "outputs": [
    {
     "data": {
      "text/plain": [
       "0"
      ]
     },
     "execution_count": 20,
     "metadata": {},
     "output_type": "execute_result"
    }
   ],
   "source": [
    "cleaned_manga['Title'].isnull().sum()"
   ]
  },
  {
   "cell_type": "code",
   "execution_count": 21,
   "id": "4b5eda31-14ca-4b5b-9ccd-7675aea2860b",
   "metadata": {},
   "outputs": [
    {
     "data": {
      "text/html": [
       "<div>\n",
       "<style scoped>\n",
       "    .dataframe tbody tr th:only-of-type {\n",
       "        vertical-align: middle;\n",
       "    }\n",
       "\n",
       "    .dataframe tbody tr th {\n",
       "        vertical-align: top;\n",
       "    }\n",
       "\n",
       "    .dataframe thead th {\n",
       "        text-align: right;\n",
       "    }\n",
       "</style>\n",
       "<table border=\"1\" class=\"dataframe\">\n",
       "  <thead>\n",
       "    <tr style=\"text-align: right;\">\n",
       "      <th></th>\n",
       "      <th>Title</th>\n",
       "      <th>Rank</th>\n",
       "      <th>Type</th>\n",
       "      <th>Volumes</th>\n",
       "      <th>Published</th>\n",
       "      <th>Members</th>\n",
       "      <th>Score</th>\n",
       "    </tr>\n",
       "  </thead>\n",
       "  <tbody>\n",
       "    <tr>\n",
       "      <th>6147</th>\n",
       "      <td>#DRCL Midnight Children</td>\n",
       "      <td>12590</td>\n",
       "      <td>One-shot</td>\n",
       "      <td>?</td>\n",
       "      <td>Dec 2020 - Dec 2020</td>\n",
       "      <td>1565</td>\n",
       "      <td>6.70</td>\n",
       "    </tr>\n",
       "    <tr>\n",
       "      <th>14165</th>\n",
       "      <td>100</td>\n",
       "      <td>13251</td>\n",
       "      <td>Manhwa</td>\n",
       "      <td>?</td>\n",
       "      <td>Oct 2021 - Sep 2022</td>\n",
       "      <td>418</td>\n",
       "      <td>6.65</td>\n",
       "    </tr>\n",
       "    <tr>\n",
       "      <th>15364</th>\n",
       "      <td>15: Meisetsu Kougyou Koukou Rugby-bu</td>\n",
       "      <td>7881</td>\n",
       "      <td>Manga</td>\n",
       "      <td>?</td>\n",
       "      <td>2010 - 2010</td>\n",
       "      <td>952</td>\n",
       "      <td>7.04</td>\n",
       "    </tr>\n",
       "    <tr>\n",
       "      <th>7407</th>\n",
       "      <td>29-sai Dokushin wa Isekai de Jiyuu ni Ikita......</td>\n",
       "      <td>14031</td>\n",
       "      <td>Light-Novel</td>\n",
       "      <td>10</td>\n",
       "      <td>Jun 2014 - Aug 2018</td>\n",
       "      <td>1017</td>\n",
       "      <td>6.58</td>\n",
       "    </tr>\n",
       "    <tr>\n",
       "      <th>17031</th>\n",
       "      <td>86</td>\n",
       "      <td>2187</td>\n",
       "      <td>Manga</td>\n",
       "      <td>?</td>\n",
       "      <td>Feb 2018 -</td>\n",
       "      <td>6767</td>\n",
       "      <td>7.60</td>\n",
       "    </tr>\n",
       "    <tr>\n",
       "      <th>...</th>\n",
       "      <td>...</td>\n",
       "      <td>...</td>\n",
       "      <td>...</td>\n",
       "      <td>...</td>\n",
       "      <td>...</td>\n",
       "      <td>...</td>\n",
       "      <td>...</td>\n",
       "    </tr>\n",
       "    <tr>\n",
       "      <th>15515</th>\n",
       "      <td>Zettai naru Isolator</td>\n",
       "      <td>3063</td>\n",
       "      <td>Light-Novel</td>\n",
       "      <td>?</td>\n",
       "      <td>Jun 2014 -</td>\n",
       "      <td>2859</td>\n",
       "      <td>7.47</td>\n",
       "    </tr>\n",
       "    <tr>\n",
       "      <th>14058</th>\n",
       "      <td>Zettai ni Hatarakitakunai Dungeon Master ga Da...</td>\n",
       "      <td>3732</td>\n",
       "      <td>Light-Novel</td>\n",
       "      <td>17</td>\n",
       "      <td>Apr 2016 - Jun 2022</td>\n",
       "      <td>3110</td>\n",
       "      <td>7.39</td>\n",
       "    </tr>\n",
       "    <tr>\n",
       "      <th>3714</th>\n",
       "      <td>[Rouhou] Ore no Iinazuke ni Natta Jimiko, Ie d...</td>\n",
       "      <td>10659</td>\n",
       "      <td>Manga</td>\n",
       "      <td>?</td>\n",
       "      <td>Jan 2022 -</td>\n",
       "      <td>1580</td>\n",
       "      <td>6.85</td>\n",
       "    </tr>\n",
       "    <tr>\n",
       "      <th>17092</th>\n",
       "      <td>½ Prince</td>\n",
       "      <td>887</td>\n",
       "      <td>Light-Novel</td>\n",
       "      <td>9</td>\n",
       "      <td>Oct 2004 - Aug 2005</td>\n",
       "      <td>7247</td>\n",
       "      <td>7.93</td>\n",
       "    </tr>\n",
       "    <tr>\n",
       "      <th>1738</th>\n",
       "      <td>●Rec</td>\n",
       "      <td>5096</td>\n",
       "      <td>Doujinshi</td>\n",
       "      <td>1</td>\n",
       "      <td>May 2014 - May 2014</td>\n",
       "      <td>7256</td>\n",
       "      <td>7.26</td>\n",
       "    </tr>\n",
       "  </tbody>\n",
       "</table>\n",
       "<p>712 rows × 7 columns</p>\n",
       "</div>"
      ],
      "text/plain": [
       "                                                   Title   Rank         Type  \\\n",
       "6147                             #DRCL Midnight Children  12590     One-shot   \n",
       "14165                                                100  13251       Manhwa   \n",
       "15364               15: Meisetsu Kougyou Koukou Rugby-bu   7881        Manga   \n",
       "7407   29-sai Dokushin wa Isekai de Jiyuu ni Ikita......  14031  Light-Novel   \n",
       "17031                                                 86   2187        Manga   \n",
       "...                                                  ...    ...          ...   \n",
       "15515                               Zettai naru Isolator   3063  Light-Novel   \n",
       "14058  Zettai ni Hatarakitakunai Dungeon Master ga Da...   3732  Light-Novel   \n",
       "3714   [Rouhou] Ore no Iinazuke ni Natta Jimiko, Ie d...  10659        Manga   \n",
       "17092                                           ½ Prince    887  Light-Novel   \n",
       "1738                                                ●Rec   5096    Doujinshi   \n",
       "\n",
       "      Volumes            Published  Members  Score  \n",
       "6147        ?  Dec 2020 - Dec 2020     1565   6.70  \n",
       "14165       ?  Oct 2021 - Sep 2022      418   6.65  \n",
       "15364       ?          2010 - 2010      952   7.04  \n",
       "7407       10  Jun 2014 - Aug 2018     1017   6.58  \n",
       "17031       ?           Feb 2018 -     6767   7.60  \n",
       "...       ...                  ...      ...    ...  \n",
       "15515       ?           Jun 2014 -     2859   7.47  \n",
       "14058      17  Apr 2016 - Jun 2022     3110   7.39  \n",
       "3714        ?           Jan 2022 -     1580   6.85  \n",
       "17092       9  Oct 2004 - Aug 2005     7247   7.93  \n",
       "1738        1  May 2014 - May 2014     7256   7.26  \n",
       "\n",
       "[712 rows x 7 columns]"
      ]
     },
     "execution_count": 21,
     "metadata": {},
     "output_type": "execute_result"
    }
   ],
   "source": [
    "cleaned_manga[cleaned_manga['Title'].duplicated() == True].sort_values('Title')"
   ]
  },
  {
   "cell_type": "code",
   "execution_count": 22,
   "id": "d14c4619-0b49-432e-9568-36ce931fccea",
   "metadata": {},
   "outputs": [
    {
     "name": "stdout",
     "output_type": "stream",
     "text": [
      "      Title   Rank    Type Volumes            Published  Members  Score\n",
      "6567    100  14360   Manga       1  Apr 2012 - Oct 2012      652   6.55\n",
      "14165   100  13251  Manhwa       ?  Oct 2021 - Sep 2022      418   6.65\n"
     ]
    }
   ],
   "source": [
    "duplicates = cleaned_manga[cleaned_manga['Title'].duplicated(keep=False)]\n",
    "print(duplicates[duplicates['Title'].str.contains('100', case=False, na=False)])"
   ]
  },
  {
   "cell_type": "code",
   "execution_count": 23,
   "id": "e71b09ac-2a2a-45c0-92f8-d5c85489e66b",
   "metadata": {},
   "outputs": [
    {
     "data": {
      "text/html": [
       "<div>\n",
       "<style scoped>\n",
       "    .dataframe tbody tr th:only-of-type {\n",
       "        vertical-align: middle;\n",
       "    }\n",
       "\n",
       "    .dataframe tbody tr th {\n",
       "        vertical-align: top;\n",
       "    }\n",
       "\n",
       "    .dataframe thead th {\n",
       "        text-align: right;\n",
       "    }\n",
       "</style>\n",
       "<table border=\"1\" class=\"dataframe\">\n",
       "  <thead>\n",
       "    <tr style=\"text-align: right;\">\n",
       "      <th></th>\n",
       "      <th>Title</th>\n",
       "      <th>Rank</th>\n",
       "      <th>Type</th>\n",
       "      <th>Volumes</th>\n",
       "      <th>Published</th>\n",
       "      <th>Members</th>\n",
       "      <th>Score</th>\n",
       "    </tr>\n",
       "  </thead>\n",
       "  <tbody>\n",
       "    <tr>\n",
       "      <th>10386</th>\n",
       "      <td>Zettai naru Isolator</td>\n",
       "      <td>9698</td>\n",
       "      <td>Manga</td>\n",
       "      <td>4</td>\n",
       "      <td>Jun 2015 - Jan 2018</td>\n",
       "      <td>2856</td>\n",
       "      <td>6.92</td>\n",
       "    </tr>\n",
       "    <tr>\n",
       "      <th>15515</th>\n",
       "      <td>Zettai naru Isolator</td>\n",
       "      <td>3063</td>\n",
       "      <td>Light-Novel</td>\n",
       "      <td>?</td>\n",
       "      <td>Jun 2014 -</td>\n",
       "      <td>2859</td>\n",
       "      <td>7.47</td>\n",
       "    </tr>\n",
       "  </tbody>\n",
       "</table>\n",
       "</div>"
      ],
      "text/plain": [
       "                      Title  Rank         Type Volumes            Published  \\\n",
       "10386  Zettai naru Isolator  9698        Manga       4  Jun 2015 - Jan 2018   \n",
       "15515  Zettai naru Isolator  3063  Light-Novel       ?           Jun 2014 -   \n",
       "\n",
       "       Members  Score  \n",
       "10386     2856   6.92  \n",
       "15515     2859   7.47  "
      ]
     },
     "execution_count": 23,
     "metadata": {},
     "output_type": "execute_result"
    }
   ],
   "source": [
    "cleaned_manga[cleaned_manga['Title'] == 'Zettai naru Isolator']"
   ]
  },
  {
   "cell_type": "code",
   "execution_count": 24,
   "id": "bb0d1b62-71ee-4742-b6f1-702254a91345",
   "metadata": {},
   "outputs": [],
   "source": [
    "cleaned_manga = cleaned_manga.drop_duplicates(subset=['Title'], keep='first')"
   ]
  },
  {
   "cell_type": "code",
   "execution_count": 25,
   "id": "60f1f802-a0a2-454a-9636-798c63726e50",
   "metadata": {},
   "outputs": [
    {
     "data": {
      "text/html": [
       "<div>\n",
       "<style scoped>\n",
       "    .dataframe tbody tr th:only-of-type {\n",
       "        vertical-align: middle;\n",
       "    }\n",
       "\n",
       "    .dataframe tbody tr th {\n",
       "        vertical-align: top;\n",
       "    }\n",
       "\n",
       "    .dataframe thead th {\n",
       "        text-align: right;\n",
       "    }\n",
       "</style>\n",
       "<table border=\"1\" class=\"dataframe\">\n",
       "  <thead>\n",
       "    <tr style=\"text-align: right;\">\n",
       "      <th></th>\n",
       "      <th>Title</th>\n",
       "      <th>Rank</th>\n",
       "      <th>Type</th>\n",
       "      <th>Volumes</th>\n",
       "      <th>Published</th>\n",
       "      <th>Members</th>\n",
       "      <th>Score</th>\n",
       "    </tr>\n",
       "  </thead>\n",
       "  <tbody>\n",
       "    <tr>\n",
       "      <th>6567</th>\n",
       "      <td>100</td>\n",
       "      <td>14360</td>\n",
       "      <td>Manga</td>\n",
       "      <td>1</td>\n",
       "      <td>Apr 2012 - Oct 2012</td>\n",
       "      <td>652</td>\n",
       "      <td>6.55</td>\n",
       "    </tr>\n",
       "  </tbody>\n",
       "</table>\n",
       "</div>"
      ],
      "text/plain": [
       "     Title   Rank   Type Volumes            Published  Members  Score\n",
       "6567   100  14360  Manga       1  Apr 2012 - Oct 2012      652   6.55"
      ]
     },
     "execution_count": 25,
     "metadata": {},
     "output_type": "execute_result"
    }
   ],
   "source": [
    "cleaned_manga[cleaned_manga['Title'] == '100']"
   ]
  },
  {
   "cell_type": "code",
   "execution_count": 26,
   "id": "2420b9ab-4ff5-4c1a-9c2b-e1734413dd63",
   "metadata": {},
   "outputs": [
    {
     "data": {
      "text/plain": [
       "0"
      ]
     },
     "execution_count": 26,
     "metadata": {},
     "output_type": "execute_result"
    }
   ],
   "source": [
    "cleaned_manga['Title'].duplicated().sum()"
   ]
  },
  {
   "cell_type": "code",
   "execution_count": 27,
   "id": "33e6778b-201f-47c3-a7da-b5b880cc25ba",
   "metadata": {},
   "outputs": [
    {
     "name": "stdout",
     "output_type": "stream",
     "text": [
      "17099\n"
     ]
    }
   ],
   "source": [
    "print(len(cleaned_manga['Title']))"
   ]
  },
  {
   "cell_type": "code",
   "execution_count": 28,
   "id": "71f61f76-23d0-4af2-af15-b18550d05fc6",
   "metadata": {},
   "outputs": [
    {
     "name": "stdout",
     "output_type": "stream",
     "text": [
      "                                           Title  Rank_x Type_x Volumes  \\\n",
      "0                                    City Hunter     460  Manga      35   \n",
      "1                                  Keijo!!!!!!!!    4532  Manga      18   \n",
      "2                            Uchuu Senkan Yamato   12124  Manga       3   \n",
      "3                                     Inuyashiki    2257  Manga      10   \n",
      "4  Tensura Nikki: Tensei shitara Slime Datta Ken    1429  Manga       ?   \n",
      "\n",
      "             Published  Members_x  Score_x  Rank_y Type_y Episodes  \\\n",
      "0  Feb 1985 - Nov 1991      14690     8.16     707     TV       51   \n",
      "1  Jul 2013 - Apr 2017      12689     7.31    4285     TV       12   \n",
      "2  Oct 1974 - Dec 1979       1168     6.74    1423     TV       26   \n",
      "3  Jan 2014 - Jul 2017      57102     7.59    1287     TV       11   \n",
      "4           Apr 2018 -       5315     7.75    1421     TV       12   \n",
      "\n",
      "                 Aired  Members_y  Score_y  \n",
      "0  Apr 1987 - Mar 1988      76751     7.91  \n",
      "1  Oct 2016 - Dec 2016     389224     6.93  \n",
      "2  Oct 1974 - Mar 1975      27358     7.59  \n",
      "3  Oct 2017 - Dec 2017     620537     7.64  \n",
      "4  Apr 2021 - Jun 2021     314128     7.59  \n"
     ]
    }
   ],
   "source": [
    "joined_df = pd.merge(cleaned_manga, cleaned_anime, on='Title', how='inner')\n",
    "\n",
    "# Display the first few rows of the joined DataFrame\n",
    "print(joined_df.head())"
   ]
  },
  {
   "cell_type": "code",
   "execution_count": 29,
   "id": "977cf0f8-6691-4040-b2f9-09e9ac81d77b",
   "metadata": {},
   "outputs": [
    {
     "name": "stdout",
     "output_type": "stream",
     "text": [
      "1767\n"
     ]
    }
   ],
   "source": [
    "print(len(joined_df))"
   ]
  }
 ],
 "metadata": {
  "kernelspec": {
   "display_name": "Python 3",
   "language": "python",
   "name": "python3"
  },
  "language_info": {
   "codemirror_mode": {
    "name": "ipython",
    "version": 3
   },
   "file_extension": ".py",
   "mimetype": "text/x-python",
   "name": "python",
   "nbconvert_exporter": "python",
   "pygments_lexer": "ipython3",
   "version": "3.8.8"
  }
 },
 "nbformat": 4,
 "nbformat_minor": 5
}
